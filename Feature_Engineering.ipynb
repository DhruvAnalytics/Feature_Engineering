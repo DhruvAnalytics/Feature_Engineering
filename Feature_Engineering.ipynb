{
  "nbformat": 4,
  "nbformat_minor": 0,
  "metadata": {
    "colab": {
      "provenance": []
    },
    "kernelspec": {
      "name": "python3",
      "display_name": "Python 3"
    },
    "language_info": {
      "name": "python"
    }
  },
  "cells": [
    {
      "cell_type": "markdown",
      "source": [
        "# Feature Engineering : Theorical Questions"
      ],
      "metadata": {
        "id": "ncRgarikAIUg"
      }
    },
    {
      "cell_type": "markdown",
      "source": [
        "1. What is a parameter?\n",
        "  - A parameter is like a variable that we use to give information to a function.\n",
        "  - A parameter is a placeholder inside a function. It helps the function take input and do something useful with it.\n",
        "  - (For Machine Learning) A parameter is something that a machine learning model learns by itself from the training data.\n",
        "  - In other word, parameters are the internal values that a model learns during training to make accurate predictions."
      ],
      "metadata": {
        "id": "7fbn0UceAQm6"
      }
    },
    {
      "cell_type": "markdown",
      "source": [
        "2. What is correlation? and What does negative correlation mean?\n",
        "  - Correlation is a way to measure how two things are related - basically, how one thing changes when another thing changes.\n",
        "  - Correlation is usually a number between -1 and 1 :\n",
        "      - +1 means a perfect positive relationship (both go up together).\n",
        "      - -1 means a perfect negative relationship (one goes up, the other goes down).\n",
        "      - 0 means no relationship at all.\n",
        "  - A negative correlation means : When one thing increases, the other tends to decrease.\n",
        "  - Negative correlation = Opposite movement between two variables.\n",
        "  - Example : As temperature increases, people buy less coffee. So there's a negative correlation between them."
      ],
      "metadata": {
        "id": "zU_cFOojDl4c"
      }
    },
    {
      "cell_type": "markdown",
      "source": [
        "3. Define Machine Learning. What are the main components in Machine Learning?\n",
        "  - Machine Learning (ML) is a type of technology where computers learn from data.\n",
        "  - Instead of writing fixed rules, we give the computer lots of data and it figures out the patterns on its own.\n",
        "  - Machine learning is teaching computers to learn from data and make predictions or decisions without being directly programmed.\n",
        "  - Main Components of Machine Learning :\n",
        "      1. Data :    \n",
        "      - The raw information (like images, numbers or text) that the machine uses to learn.\n",
        "      2. Features :    \n",
        "      - The input values or characteristics taken from the data.\n",
        "      3. Model :    \n",
        "      - The brain of the system. It uses features to make predictions.\n",
        "      4. Algorithm :    \n",
        "      - The method used to train the model. It decides how the model learns from the data.\n",
        "      5. Training :    \n",
        "      - Feeding data into the model so it can learn patterns.\n",
        "      6. Prediction :    \n",
        "      - Once trained, the model makes guesses or decisions on new data.\n",
        "      7. Evaluation :    \n",
        "      - Checking how good the model's predictions are."
      ],
      "metadata": {
        "id": "qVRcvuFdE629"
      }
    },
    {
      "cell_type": "markdown",
      "source": [
        "4. How does loss value help in determining whether the model is good or not?\n",
        "  - The loss value is like a score that tells us how wrong our model is.\n",
        "  - When a model makes a prediction, we compare it with the actual answer.\n",
        "  - The difference between the prediction and the actual value is called the loss.\n",
        "  - The higher the loss, the worse the model is doing.\n",
        "  - The lower the loss, the better the model is learning.\n",
        "  - The goal is to minimize the loss, meaning the predictions get closer and closer to the actual values.\n",
        "  - In simple words :    \n",
        "      - Loss = Mistake.\n",
        "      - Low loss = Good model.\n",
        "      - High loss = Bad model (needs more training or fixing)."
      ],
      "metadata": {
        "id": "pMugC_WHHO0O"
      }
    },
    {
      "cell_type": "markdown",
      "source": [
        "5. What are continuous and categorical variables?\n",
        "  - In machine learning, we use different types of data and two common ones are :\n",
        "  - Continuous Variables :    \n",
        "      - These are numeric values that can be measured and have an infinite range.\n",
        "      - We can do math with them (like add, subtract, average).\n",
        "      - They can have decimals or fractions.\n",
        "      - Examples : Height (e.g., 5.6 feet), Temperature (e.g., 22.3C), Salary (e.g., 45,000) etc.\n",
        "  - Categorical Variables :    \n",
        "      - These are labels or categories that represent groups or types.\n",
        "      - They are not measured but classified.\n",
        "      - We can't do math with them.\n",
        "      - Examples : Gender (Male, Female), Colors (Red, Blue, Green), Country (India, USA, Japan) etc."
      ],
      "metadata": {
        "id": "WO96cZz3IQoB"
      }
    },
    {
      "cell_type": "markdown",
      "source": [
        "6. How do we handle categorical variables in Machine Learning? What are the common techniques?\n",
        "  - Machine learning models can't understand words or labels directly - they need numbers.\n",
        "  - So, we convert categorical variables (like \"Red\", \"Blue\", \"Green\") into numbers using different techniques.\n",
        "  - Common Techniques to Handle Categorical Variables :\n",
        "  1. Label Encoding :    \n",
        "      - Assigns a number to each category.\n",
        "      - Example : Red = 0, Blue = 1, Green = 2\n",
        "      - Good for ordered categories (like Low, Medium, High).\n",
        "      - (Disadvantage) May confuse the model if the categories don't have a real order.\n",
        "  2. One-Hot Encoding :    \n",
        "      - Creates a new column for each category.\n",
        "      - Puts 1 where the category exists and 0 elsewhere.\n",
        "      - Good for unordered categories.\n",
        "      - (Disadvantage) Can create many columns if there are lots of categories.\n",
        "  3. Ordinal Encoding :    \n",
        "      - Similar to label encoding but used when the categories have a natural order.\n",
        "      - Example : Low = 1, Medium = 2, High = 3\n",
        "  4. Target Encoding (Advanced) :    \n",
        "      - Replaces categories with the average target value for that category.\n",
        "      - Used in specific cases (e.g., Kaggle competitions), but needs careful handling to avoid overfitting."
      ],
      "metadata": {
        "id": "6vJiK1nQmgDH"
      }
    },
    {
      "cell_type": "markdown",
      "source": [
        "7. What do you mean by training and testing a dataset?\n",
        "  - In machine learning, we usually split our data into two parts :\n",
        "  - Training Dataset :    \n",
        "      - This is the data the model learns from.\n",
        "      - Example : If we want to teach a model to predict house prices, the training data will have - House size (inputs), location (inputs), Actual price (correct answer).\n",
        "  - Testing Dataset :\n",
        "      - This data is not shown to the model during training.\n",
        "      - It's used to check how well the model learned.\n",
        "      - The goal is to see if the model can make accurate predictions on new data."
      ],
      "metadata": {
        "id": "LQiLxEfUsG6o"
      }
    },
    {
      "cell_type": "markdown",
      "source": [
        "8. What is sklearn.preprocessing?\n",
        "  - sklearn.preprocessing is a part of the scikit-learn library (also called sklearn) that helps us prepare our data before training a machine learning model.\n",
        "  - Why it is needed :\n",
        "      - Most machine learning models don't work well with raw data. We need to clean, scale or transform the data so the model can understand it better.\n",
        "  - Common things we can do with sklearn.preprocessing :\n",
        "  1. Scaling Features :    \n",
        "      - Makes sure all numbers are on a similar scale.\n",
        "      - Example : StandardScaler(), MinMaxScaler().\n",
        "  2. Encoding Categorical Data :    \n",
        "      - Converts categories (like “Red”, “Blue”) into numbers.\n",
        "      - Example : OneHotEncoder(), LabelEncoder().\n",
        "  3. Normalization :    \n",
        "      - Adjusts values so they fall between 0 and 1.\n",
        "      - Helps in algorithms that use distance (like KNN).\n",
        "  4. Binarization :    \n",
        "      - Turns data into 0s and 1s based on a threshold.\n",
        "  5. Handling Missing Values (via Imputation) :    \n",
        "      - Filling in missing values with a default like mean or median.\n",
        "      - Done using : SimpleImputer()."
      ],
      "metadata": {
        "id": "umQgDlauuM1m"
      }
    },
    {
      "cell_type": "markdown",
      "source": [
        "9. What is a Test set?\n",
        "  - A test set is a portion of the dataset that is kept separate and used to evaluate how well a machine learning model works.\n",
        "  -  Why it is important :    \n",
        "      - After the model learns from the training set, we want to see if it can make good predictions on new, unseen data. That's where the test set comes in."
      ],
      "metadata": {
        "id": "cFyLPH69wQgl"
      }
    },
    {
      "cell_type": "markdown",
      "source": [
        "10. How do we split data for model fitting (training and testing) in Python? How do you approach a Machine Learning problem?\n",
        "  - We usually use train_test_split from scikit-learn (sklearn) to split the dataset."
      ],
      "metadata": {
        "id": "icSb27YExFsQ"
      }
    },
    {
      "cell_type": "code",
      "source": [
        "# Syntax :\n",
        "from sklearn.model_selection import train_test_split\n",
        "\n",
        "# X = input/features, y = output/target\n",
        "X_train, X_test, y_train, y_test = train_test_split(X, y, test_size=0.2, random_state=42)"
      ],
      "metadata": {
        "id": "cdwxzeeVx7Yc"
      },
      "execution_count": null,
      "outputs": []
    },
    {
      "cell_type": "markdown",
      "source": [
        "  - test_size=0.2 means 20% for testing, 80% for training.\n",
        "  - random_state=42 ensures results are reproducible (optional).\n",
        "  - Approach a Machine Learning Problem :    \n",
        "       - Steps to Approach an ML Problem :\n",
        "       1. Understand the Problem : What are we trying to predict or classify?\n",
        "       2. Collect the Data : Gather the relevant dataset.\n",
        "       3. Explore the Data (EDA) : Check for patterns, missing values and outliers.\n",
        "       4. Preprocess the Data : Clean it, handle missing values and convert categories into numbers.\n",
        "       5. Split the Data : Use train_test_split to divide into training and test sets.\n",
        "       6. Choose a Model : Example - Linear Regression, Decision Tree, etc.\n",
        "       7. Train the Model : Fit it using the training data.\n",
        "       8. Evaluate the Model : Use the test set to check accuracy, error or other metrics.\n",
        "       9. Tune and Improve : Try different models or settings to get better results.\n",
        "       10. Deploy the Model (Optional) : Use it in real applications to make predictions."
      ],
      "metadata": {
        "id": "byHZbi9FyA3I"
      }
    },
    {
      "cell_type": "markdown",
      "source": [
        "11. Why do we have to perform EDA before fitting a model to the data?\n",
        "  - EDA (Exploratory Data Analysis) is like getting to know our data before teaching it to a machine.\n",
        "  - It helps us understand the shape, quality and patterns in our dataset - so we can clean it, fix issues and choose the right model.\n",
        "  - Reasons Why EDA is Important :\n",
        "  1. Detect Missing Values : We might find empty or null entries that need to be filled or removed.\n",
        "  2. Find Outliers or Errors : Strange or extreme values can confuse the model.\n",
        "  3. Understand Feature Relationships : We can spot which features are important and how they relate to the target.\n",
        "  4. Choose the Right Preprocessing : EDA tells us if we need scaling, encoding or transformation.\n",
        "  5. Spot Data Imbalance : For classification, we might find that some categories appear more than others (class imbalance).\n",
        "  6. Avoid Garbage In = Garbage Out : If our data is messy, our model will learn the wrong things.\n",
        "\n"
      ],
      "metadata": {
        "id": "8-M8m0R51eBp"
      }
    },
    {
      "cell_type": "markdown",
      "source": [
        "12. What is correlation? (Same as Question 2.)\n",
        "  - Correlation is a way to measure how two things are related - basically, how one thing changes when another thing changes.\n",
        "  - Correlation is usually a number between -1 and 1 :\n",
        "      - +1 means a perfect positive relationship (both go up together).\n",
        "      - -1 means a perfect negative relationship (one goes up, the other goes down).\n",
        "      - 0 means no relationship at all."
      ],
      "metadata": {
        "id": "SdPLpyP13lla"
      }
    },
    {
      "cell_type": "markdown",
      "source": [
        "13. What does negative correlation mean? (Same as Question 2.)\n",
        "  - A negative correlation means : When one thing increases, the other tends to decrease.\n",
        "  - Negative correlation = Opposite movement between two variables.\n",
        "  - Example : As temperature increases, people buy less coffee. So there's a negative correlation between them."
      ],
      "metadata": {
        "id": "lqLgNgzi4Omp"
      }
    },
    {
      "cell_type": "markdown",
      "source": [
        "14. How can you find correlation between variables in Python?\n",
        "  - We usually use Pandas to calculate the correlation between columns in a dataset."
      ],
      "metadata": {
        "id": "u6f2baM15AfW"
      }
    },
    {
      "cell_type": "code",
      "source": [
        "import pandas as pd\n",
        "\n",
        "# Sample data\n",
        "data = {\n",
        "    'Height': [150, 160, 170, 180],\n",
        "    'Weight': [50, 60, 65, 80]\n",
        "}\n",
        "\n",
        "df = pd.DataFrame(data)\n",
        "\n",
        "# Find correlation\n",
        "correlation = df.corr()\n",
        "print(correlation)"
      ],
      "metadata": {
        "colab": {
          "base_uri": "https://localhost:8080/"
        },
        "id": "AyybysJvx-cM",
        "outputId": "481aa250-3357-4bae-acc9-a5721d2cfc0c"
      },
      "execution_count": null,
      "outputs": [
        {
          "output_type": "stream",
          "name": "stdout",
          "text": [
            "          Height    Weight\n",
            "Height  1.000000  0.981156\n",
            "Weight  0.981156  1.000000\n"
          ]
        }
      ]
    },
    {
      "cell_type": "markdown",
      "source": [
        "15. What is causation? Explain difference between correlation and causation with an example.\n",
        "  - Causation means one thing directly causes another to happen.\n",
        "  - It's a cause-and-effect relationship.\n",
        "  - Example of Causation : If we study more, we score higher on exams. Here, studying causes better results - that's causation.\n",
        "  - Correlation vs. Causation :    \n",
        "      - Correlation :\n",
        "          - Meaning : Two things change together.\n",
        "          - Example : Ice cream sales increases and drowning cases increases.\n",
        "      - Causation :    \n",
        "          - Meaning : One thing causes the other to change.\n",
        "          - Example : More study hours -> higher marks.\n",
        "      - Correlation is not causation. Correlation shows a relationship; causation shows direct influence."
      ],
      "metadata": {
        "id": "aXhXYyME51sr"
      }
    },
    {
      "cell_type": "markdown",
      "source": [
        "16. What is an Optimizer? What are different types of optimizers? Explain each with an example.\n",
        "  - An optimizer is an algorithm used in machine learning to adjust the model's parameters (like weights) to reduce the loss/error during training.\n",
        "  - Think of it like a guide helping the model learn faster and smarter by improving guesses with each step.\n",
        "  - Common Types of Optimizers (with simple examples) :\n",
        "  1. Gradient Descent\n",
        "      - The most basic optimizer.\n",
        "      - It updates weights slowly in the direction that reduces the error.\n",
        "      - Example :\n",
        "          - Imagine we are walking downhill to reach the lowest point (minimum loss). Each step we take is based on how steep the slope is.\n",
        "          - (Concept only - not usually used directly) weights = weights - learning_rate * gradient\n",
        "  2. Stochastic Gradient Descent (SGD)\n",
        "      - Same as gradient descent, but updates weights after each data point instead of the whole batch.\n",
        "      - Faster and better for large datasets, but more \"noisy.\"\n",
        "      - Example :\n",
        "          - Like taking small, fast steps with some wobble.\n",
        "          - from tensorflow.keras.optimizers import SGD\n",
        "          - model.compile(optimizer=SGD(learning_rate=0.01), loss='mse')\n",
        "  3. Adam (Adaptive Moment Estimation)\n",
        "      - Most commonly used in deep learning.\n",
        "      - Combines the benefits of Momentum and RMSProp.\n",
        "      - It's fast and usually works well out of the box.\n",
        "      - Example :\n",
        "          - Smart walking - adjusts our step size and direction using past knowledge.\n",
        "          - from tensorflow.keras.optimizers import Adam\n",
        "          - model.compile(optimizer=Adam(learning_rate=0.001), loss='mse')\n",
        "  4. RMSProp\n",
        "      - Good for recurrent neural networks (RNNs).\n",
        "      - Adapts learning rate for each weight based on recent updates.\n",
        "  5. Adagrad\n",
        "      - Adjusts learning rate individually for each parameter.\n",
        "      - Slows down learning over time."
      ],
      "metadata": {
        "id": "0YDjqwbz7tP_"
      }
    },
    {
      "cell_type": "markdown",
      "source": [
        "17. What is sklearn.linear_model?\n",
        "  - sklearn.linear_model is a module in scikit-learn that provides tools to build linear models - models that try to make predictions based on a straight-line (or linear) relationship between input and output.\n",
        "  - Common Models in sklearn.linear_model :\n",
        "  1. LinearRegression\n",
        "      - Used for predicting continuous values (e.g., house prices).\n",
        "      - Equation: y = mx + b\n",
        "  2. LogisticRegression\n",
        "      - Used for classification (e.g., yes/no, spam/not spam).\n",
        "      - Predicts probability and turns it into class labels (0 or 1).\n",
        "  3. Ridge & Lasso Regression\n",
        "      - Variations of linear regression with regularization (to reduce overfitting).\n",
        "      - Ridge uses L2 penalty, Lasso uses L1 penalty."
      ],
      "metadata": {
        "id": "MtWMm4L7AZ7N"
      }
    },
    {
      "cell_type": "markdown",
      "source": [
        "18. What does model.fit() do? What arguments must be given?\n",
        "  - The .fit() function is used to train the model on our dataset.\n",
        "It teaches the model how to make predictions by finding patterns in the input data.\n",
        "  - model.fit(X, y) = Learn from inputs (X) and correct answers (y)\n",
        "  - X = Features (input data like size, color, age, etc.)\n",
        "  - y = Labels/target (what we are trying to predict)\n",
        "  - Required Arguments :\n",
        "      - X\t: The input features (usually a table or 2D array)\n",
        "      - y : The target values (what the model should learn to predict)."
      ],
      "metadata": {
        "id": "iNqF5fEyBrxj"
      }
    },
    {
      "cell_type": "markdown",
      "source": [
        "19. What does model.predict() do? What arguments must be given?\n",
        "  - The .predict() function is used after the model is trained.\n",
        "  - It takes new input data and gives predictions based on what the model has learned.\n",
        "  - Required Argument :\n",
        "      - X : The new input data (same number of features as the training data).\n",
        "  -  Use Case :\n",
        "      - In regression: it predicts numbers (e.g., price = 300.5).\n",
        "      - In classification: it predicts class labels (e.g., cat or dog)."
      ],
      "metadata": {
        "id": "XEihdkU_EAbJ"
      }
    },
    {
      "cell_type": "markdown",
      "source": [
        "20. What are continuous and categorical variables? (Same as Question 5.)\n",
        "  - In machine learning, we use different types of data and two common ones are :\n",
        "  - Continuous Variables :    \n",
        "      - These are numeric values that can be measured and have an infinite range.\n",
        "      - We can do math with them (like add, subtract, average).\n",
        "      - They can have decimals or fractions.\n",
        "      - Examples : Height (e.g., 5.6 feet), Temperature (e.g., 22.3C), Salary (e.g., 45,000) etc.\n",
        "  - Categorical Variables :    \n",
        "      - These are labels or categories that represent groups or types.\n",
        "      - They are not measured but classified.\n",
        "      - We can't do math with them.\n",
        "      - Examples : Gender (Male, Female), Colors (Red, Blue, Green), Country (India, USA, Japan) etc."
      ],
      "metadata": {
        "id": "e57ZkaVDIhte"
      }
    },
    {
      "cell_type": "markdown",
      "source": [
        "21. What is feature scaling? How does it help in Machine Learning?\n",
        "  - Feature scaling is a technique used to adjust the range of data values so that all features (columns) are on a similar scale - usually between 0 and 1 or with mean 0 and standard deviation 1.\n",
        "  - Why we need it :    \n",
        "      - Some machine learning models (like KNN, SVM or Gradient Descent-based models) are sensitive to the scale of features.\n",
        "      - If one feature has values like 1 - 1000 and another has 0 - 1, the model might give more importance to the bigger one - even if both are equally important.\n",
        "  - Common Feature Scaling Methods :\n",
        "  1. Min-Max Scaling (Normalization) :\n",
        "      - Scales values to a fixed range, usually 0 to 1.\n",
        "  2. Standardization (Z-score Scaling) :    \n",
        "      - Transforms data to have mean = 0 and std = 1.\n",
        "  - How it helps :\n",
        "      - Improves model accuracy.\n",
        "      - Speeds up training.\n",
        "      - Helps models treat all features equally."
      ],
      "metadata": {
        "id": "Uxnv22HZJOQw"
      }
    },
    {
      "cell_type": "markdown",
      "source": [
        "22. How do we perform scaling in Python?\n",
        "  - We usually perform scaling using scikit-learn's preprocessing tools like StandardScaler or MinMaxScaler.\n",
        "  1. Standard Scaling (Z-score Scaling)\n",
        "      - This scales the data so that : Mean = 0 and Standard Deviation = 1.\n",
        "  2. Min-Max Scaling (Normalization)\n",
        "      - This scales the values to a range [0, 1]."
      ],
      "metadata": {
        "id": "Q1qBziHsLfzL"
      }
    },
    {
      "cell_type": "code",
      "source": [
        "# Standard Scaling\n",
        "from sklearn.preprocessing import StandardScaler\n",
        "\n",
        "scaler = StandardScaler()\n",
        "X_scaled = scaler.fit_transform(X)  # X is our feature dataset\n",
        "\n",
        "# Min-Max Scaling (Normalization)\n",
        "from sklearn.preprocessing import MinMaxScaler\n",
        "\n",
        "scaler = MinMaxScaler()\n",
        "X_scaled = scaler.fit_transform(X)"
      ],
      "metadata": {
        "id": "MSE0HMZ-Mwhz"
      },
      "execution_count": null,
      "outputs": []
    },
    {
      "cell_type": "markdown",
      "source": [
        "23. What is sklearn.preprocessing? (Same as Question 8.)\n",
        "  - sklearn.preprocessing is a part of the scikit-learn library (also called sklearn) that helps us prepare our data before training a machine learning model.\n",
        "  - Why it is needed :\n",
        "      - Most machine learning models don't work well with raw data. We need to clean, scale or transform the data so the model can understand it better.\n",
        "  - Common things we can do with sklearn.preprocessing :\n",
        "  1. Scaling Features :    \n",
        "      - Makes sure all numbers are on a similar scale.\n",
        "      - Example : StandardScaler(), MinMaxScaler().\n",
        "  2. Encoding Categorical Data :    \n",
        "      - Converts categories (like “Red”, “Blue”) into numbers.\n",
        "      - Example : OneHotEncoder(), LabelEncoder().\n",
        "  3. Normalization :    \n",
        "      - Adjusts values so they fall between 0 and 1.\n",
        "      - Helps in algorithms that use distance (like KNN).\n",
        "  4. Binarization :    \n",
        "      - Turns data into 0s and 1s based on a threshold.\n",
        "  5. Handling Missing Values (via Imputation) :    \n",
        "      - Filling in missing values with a default like mean or median.\n",
        "      - Done using : SimpleImputer()."
      ],
      "metadata": {
        "id": "XTBwmQ9lNS6z"
      }
    },
    {
      "cell_type": "markdown",
      "source": [
        "24. How do we split data for model fitting (training and testing) in Python? (Same as Question 10.)\n",
        "  - We usually use train_test_split from scikit-learn (sklearn) to split the dataset."
      ],
      "metadata": {
        "id": "G7xUoDEwNnP2"
      }
    },
    {
      "cell_type": "code",
      "source": [
        "# Syntax :\n",
        "from sklearn.model_selection import train_test_split\n",
        "\n",
        "# X = input/features, y = output/target\n",
        "X_train, X_test, y_train, y_test = train_test_split(X, y, test_size=0.2, random_state=42)"
      ],
      "metadata": {
        "id": "tNK7jdUUNlUt"
      },
      "execution_count": null,
      "outputs": []
    },
    {
      "cell_type": "markdown",
      "source": [
        "  - test_size=0.2 means 20% for testing, 80% for training.\n",
        "  - random_state=42 ensures results are reproducible (optional)."
      ],
      "metadata": {
        "id": "9iX5rpNoOED-"
      }
    },
    {
      "cell_type": "markdown",
      "source": [
        "25. Explain data encoding?\n",
        "  - Data encoding is the process of converting categorical (text) data into numerical values so that machine learning models can understand and work with them.\n",
        "  - Why we need it :\n",
        "      - Most ML algorithms can't handle text directly - they only understand numbers.\n",
        "      - So we convert things like \"Red\", \"Blue\" or \"Yes\", \"No\" into numbers.\n",
        "  - Common Encoding Techniques :\n",
        "  1. Label Encoding :    \n",
        "      - Converts each category into a unique number.\n",
        "      - Example : \"Red\" -> 0, \"Blue\" -> 1, \"Green\" -> 2.\n",
        "  2. One-Hot Encoding :    \n",
        "      - Creates a new column for each category, using 1s and 0s.  "
      ],
      "metadata": {
        "id": "G2G_RhUmOLzf"
      }
    },
    {
      "cell_type": "code",
      "source": [
        "# Label Encoding\n",
        "from sklearn.preprocessing import LabelEncoder\n",
        "\n",
        "encoder = LabelEncoder()\n",
        "encoded = encoder.fit_transform(['Red', 'Blue', 'Green', 'Red'])\n",
        "encoded"
      ],
      "metadata": {
        "colab": {
          "base_uri": "https://localhost:8080/"
        },
        "id": "YAB0ioSBQL2r",
        "outputId": "4a92f2e4-a75b-478a-a3c8-57ea9cfc6ad2"
      },
      "execution_count": null,
      "outputs": [
        {
          "output_type": "execute_result",
          "data": {
            "text/plain": [
              "array([2, 0, 1, 2])"
            ]
          },
          "metadata": {},
          "execution_count": 6
        }
      ]
    },
    {
      "cell_type": "code",
      "source": [
        "# One-Hot Encoding\n",
        "from sklearn.preprocessing import OneHotEncoder\n",
        "import pandas as pd\n",
        "\n",
        "df = pd.DataFrame({'Color': ['Red', 'Blue', 'Green']})\n",
        "encoded = pd.get_dummies(df, columns=['Color'], dtype=int)\n",
        "encoded"
      ],
      "metadata": {
        "colab": {
          "base_uri": "https://localhost:8080/",
          "height": 143
        },
        "id": "DQXnXWDQQREJ",
        "outputId": "ccd019cb-30af-4bb8-9c35-db4504e22b7e"
      },
      "execution_count": null,
      "outputs": [
        {
          "output_type": "execute_result",
          "data": {
            "text/plain": [
              "   Color_Blue  Color_Green  Color_Red\n",
              "0           0            0          1\n",
              "1           1            0          0\n",
              "2           0            1          0"
            ],
            "text/html": [
              "\n",
              "  <div id=\"df-3f4305ed-49dc-451a-a5cc-04bcd2f9c28d\" class=\"colab-df-container\">\n",
              "    <div>\n",
              "<style scoped>\n",
              "    .dataframe tbody tr th:only-of-type {\n",
              "        vertical-align: middle;\n",
              "    }\n",
              "\n",
              "    .dataframe tbody tr th {\n",
              "        vertical-align: top;\n",
              "    }\n",
              "\n",
              "    .dataframe thead th {\n",
              "        text-align: right;\n",
              "    }\n",
              "</style>\n",
              "<table border=\"1\" class=\"dataframe\">\n",
              "  <thead>\n",
              "    <tr style=\"text-align: right;\">\n",
              "      <th></th>\n",
              "      <th>Color_Blue</th>\n",
              "      <th>Color_Green</th>\n",
              "      <th>Color_Red</th>\n",
              "    </tr>\n",
              "  </thead>\n",
              "  <tbody>\n",
              "    <tr>\n",
              "      <th>0</th>\n",
              "      <td>0</td>\n",
              "      <td>0</td>\n",
              "      <td>1</td>\n",
              "    </tr>\n",
              "    <tr>\n",
              "      <th>1</th>\n",
              "      <td>1</td>\n",
              "      <td>0</td>\n",
              "      <td>0</td>\n",
              "    </tr>\n",
              "    <tr>\n",
              "      <th>2</th>\n",
              "      <td>0</td>\n",
              "      <td>1</td>\n",
              "      <td>0</td>\n",
              "    </tr>\n",
              "  </tbody>\n",
              "</table>\n",
              "</div>\n",
              "    <div class=\"colab-df-buttons\">\n",
              "\n",
              "  <div class=\"colab-df-container\">\n",
              "    <button class=\"colab-df-convert\" onclick=\"convertToInteractive('df-3f4305ed-49dc-451a-a5cc-04bcd2f9c28d')\"\n",
              "            title=\"Convert this dataframe to an interactive table.\"\n",
              "            style=\"display:none;\">\n",
              "\n",
              "  <svg xmlns=\"http://www.w3.org/2000/svg\" height=\"24px\" viewBox=\"0 -960 960 960\">\n",
              "    <path d=\"M120-120v-720h720v720H120Zm60-500h600v-160H180v160Zm220 220h160v-160H400v160Zm0 220h160v-160H400v160ZM180-400h160v-160H180v160Zm440 0h160v-160H620v160ZM180-180h160v-160H180v160Zm440 0h160v-160H620v160Z\"/>\n",
              "  </svg>\n",
              "    </button>\n",
              "\n",
              "  <style>\n",
              "    .colab-df-container {\n",
              "      display:flex;\n",
              "      gap: 12px;\n",
              "    }\n",
              "\n",
              "    .colab-df-convert {\n",
              "      background-color: #E8F0FE;\n",
              "      border: none;\n",
              "      border-radius: 50%;\n",
              "      cursor: pointer;\n",
              "      display: none;\n",
              "      fill: #1967D2;\n",
              "      height: 32px;\n",
              "      padding: 0 0 0 0;\n",
              "      width: 32px;\n",
              "    }\n",
              "\n",
              "    .colab-df-convert:hover {\n",
              "      background-color: #E2EBFA;\n",
              "      box-shadow: 0px 1px 2px rgba(60, 64, 67, 0.3), 0px 1px 3px 1px rgba(60, 64, 67, 0.15);\n",
              "      fill: #174EA6;\n",
              "    }\n",
              "\n",
              "    .colab-df-buttons div {\n",
              "      margin-bottom: 4px;\n",
              "    }\n",
              "\n",
              "    [theme=dark] .colab-df-convert {\n",
              "      background-color: #3B4455;\n",
              "      fill: #D2E3FC;\n",
              "    }\n",
              "\n",
              "    [theme=dark] .colab-df-convert:hover {\n",
              "      background-color: #434B5C;\n",
              "      box-shadow: 0px 1px 3px 1px rgba(0, 0, 0, 0.15);\n",
              "      filter: drop-shadow(0px 1px 2px rgba(0, 0, 0, 0.3));\n",
              "      fill: #FFFFFF;\n",
              "    }\n",
              "  </style>\n",
              "\n",
              "    <script>\n",
              "      const buttonEl =\n",
              "        document.querySelector('#df-3f4305ed-49dc-451a-a5cc-04bcd2f9c28d button.colab-df-convert');\n",
              "      buttonEl.style.display =\n",
              "        google.colab.kernel.accessAllowed ? 'block' : 'none';\n",
              "\n",
              "      async function convertToInteractive(key) {\n",
              "        const element = document.querySelector('#df-3f4305ed-49dc-451a-a5cc-04bcd2f9c28d');\n",
              "        const dataTable =\n",
              "          await google.colab.kernel.invokeFunction('convertToInteractive',\n",
              "                                                    [key], {});\n",
              "        if (!dataTable) return;\n",
              "\n",
              "        const docLinkHtml = 'Like what you see? Visit the ' +\n",
              "          '<a target=\"_blank\" href=https://colab.research.google.com/notebooks/data_table.ipynb>data table notebook</a>'\n",
              "          + ' to learn more about interactive tables.';\n",
              "        element.innerHTML = '';\n",
              "        dataTable['output_type'] = 'display_data';\n",
              "        await google.colab.output.renderOutput(dataTable, element);\n",
              "        const docLink = document.createElement('div');\n",
              "        docLink.innerHTML = docLinkHtml;\n",
              "        element.appendChild(docLink);\n",
              "      }\n",
              "    </script>\n",
              "  </div>\n",
              "\n",
              "\n",
              "    <div id=\"df-1c8d7106-b49a-40de-a960-f7fe7dd372f9\">\n",
              "      <button class=\"colab-df-quickchart\" onclick=\"quickchart('df-1c8d7106-b49a-40de-a960-f7fe7dd372f9')\"\n",
              "                title=\"Suggest charts\"\n",
              "                style=\"display:none;\">\n",
              "\n",
              "<svg xmlns=\"http://www.w3.org/2000/svg\" height=\"24px\"viewBox=\"0 0 24 24\"\n",
              "     width=\"24px\">\n",
              "    <g>\n",
              "        <path d=\"M19 3H5c-1.1 0-2 .9-2 2v14c0 1.1.9 2 2 2h14c1.1 0 2-.9 2-2V5c0-1.1-.9-2-2-2zM9 17H7v-7h2v7zm4 0h-2V7h2v10zm4 0h-2v-4h2v4z\"/>\n",
              "    </g>\n",
              "</svg>\n",
              "      </button>\n",
              "\n",
              "<style>\n",
              "  .colab-df-quickchart {\n",
              "      --bg-color: #E8F0FE;\n",
              "      --fill-color: #1967D2;\n",
              "      --hover-bg-color: #E2EBFA;\n",
              "      --hover-fill-color: #174EA6;\n",
              "      --disabled-fill-color: #AAA;\n",
              "      --disabled-bg-color: #DDD;\n",
              "  }\n",
              "\n",
              "  [theme=dark] .colab-df-quickchart {\n",
              "      --bg-color: #3B4455;\n",
              "      --fill-color: #D2E3FC;\n",
              "      --hover-bg-color: #434B5C;\n",
              "      --hover-fill-color: #FFFFFF;\n",
              "      --disabled-bg-color: #3B4455;\n",
              "      --disabled-fill-color: #666;\n",
              "  }\n",
              "\n",
              "  .colab-df-quickchart {\n",
              "    background-color: var(--bg-color);\n",
              "    border: none;\n",
              "    border-radius: 50%;\n",
              "    cursor: pointer;\n",
              "    display: none;\n",
              "    fill: var(--fill-color);\n",
              "    height: 32px;\n",
              "    padding: 0;\n",
              "    width: 32px;\n",
              "  }\n",
              "\n",
              "  .colab-df-quickchart:hover {\n",
              "    background-color: var(--hover-bg-color);\n",
              "    box-shadow: 0 1px 2px rgba(60, 64, 67, 0.3), 0 1px 3px 1px rgba(60, 64, 67, 0.15);\n",
              "    fill: var(--button-hover-fill-color);\n",
              "  }\n",
              "\n",
              "  .colab-df-quickchart-complete:disabled,\n",
              "  .colab-df-quickchart-complete:disabled:hover {\n",
              "    background-color: var(--disabled-bg-color);\n",
              "    fill: var(--disabled-fill-color);\n",
              "    box-shadow: none;\n",
              "  }\n",
              "\n",
              "  .colab-df-spinner {\n",
              "    border: 2px solid var(--fill-color);\n",
              "    border-color: transparent;\n",
              "    border-bottom-color: var(--fill-color);\n",
              "    animation:\n",
              "      spin 1s steps(1) infinite;\n",
              "  }\n",
              "\n",
              "  @keyframes spin {\n",
              "    0% {\n",
              "      border-color: transparent;\n",
              "      border-bottom-color: var(--fill-color);\n",
              "      border-left-color: var(--fill-color);\n",
              "    }\n",
              "    20% {\n",
              "      border-color: transparent;\n",
              "      border-left-color: var(--fill-color);\n",
              "      border-top-color: var(--fill-color);\n",
              "    }\n",
              "    30% {\n",
              "      border-color: transparent;\n",
              "      border-left-color: var(--fill-color);\n",
              "      border-top-color: var(--fill-color);\n",
              "      border-right-color: var(--fill-color);\n",
              "    }\n",
              "    40% {\n",
              "      border-color: transparent;\n",
              "      border-right-color: var(--fill-color);\n",
              "      border-top-color: var(--fill-color);\n",
              "    }\n",
              "    60% {\n",
              "      border-color: transparent;\n",
              "      border-right-color: var(--fill-color);\n",
              "    }\n",
              "    80% {\n",
              "      border-color: transparent;\n",
              "      border-right-color: var(--fill-color);\n",
              "      border-bottom-color: var(--fill-color);\n",
              "    }\n",
              "    90% {\n",
              "      border-color: transparent;\n",
              "      border-bottom-color: var(--fill-color);\n",
              "    }\n",
              "  }\n",
              "</style>\n",
              "\n",
              "      <script>\n",
              "        async function quickchart(key) {\n",
              "          const quickchartButtonEl =\n",
              "            document.querySelector('#' + key + ' button');\n",
              "          quickchartButtonEl.disabled = true;  // To prevent multiple clicks.\n",
              "          quickchartButtonEl.classList.add('colab-df-spinner');\n",
              "          try {\n",
              "            const charts = await google.colab.kernel.invokeFunction(\n",
              "                'suggestCharts', [key], {});\n",
              "          } catch (error) {\n",
              "            console.error('Error during call to suggestCharts:', error);\n",
              "          }\n",
              "          quickchartButtonEl.classList.remove('colab-df-spinner');\n",
              "          quickchartButtonEl.classList.add('colab-df-quickchart-complete');\n",
              "        }\n",
              "        (() => {\n",
              "          let quickchartButtonEl =\n",
              "            document.querySelector('#df-1c8d7106-b49a-40de-a960-f7fe7dd372f9 button');\n",
              "          quickchartButtonEl.style.display =\n",
              "            google.colab.kernel.accessAllowed ? 'block' : 'none';\n",
              "        })();\n",
              "      </script>\n",
              "    </div>\n",
              "\n",
              "  <div id=\"id_b96724e8-d926-4ad4-893d-ddd0a1532386\">\n",
              "    <style>\n",
              "      .colab-df-generate {\n",
              "        background-color: #E8F0FE;\n",
              "        border: none;\n",
              "        border-radius: 50%;\n",
              "        cursor: pointer;\n",
              "        display: none;\n",
              "        fill: #1967D2;\n",
              "        height: 32px;\n",
              "        padding: 0 0 0 0;\n",
              "        width: 32px;\n",
              "      }\n",
              "\n",
              "      .colab-df-generate:hover {\n",
              "        background-color: #E2EBFA;\n",
              "        box-shadow: 0px 1px 2px rgba(60, 64, 67, 0.3), 0px 1px 3px 1px rgba(60, 64, 67, 0.15);\n",
              "        fill: #174EA6;\n",
              "      }\n",
              "\n",
              "      [theme=dark] .colab-df-generate {\n",
              "        background-color: #3B4455;\n",
              "        fill: #D2E3FC;\n",
              "      }\n",
              "\n",
              "      [theme=dark] .colab-df-generate:hover {\n",
              "        background-color: #434B5C;\n",
              "        box-shadow: 0px 1px 3px 1px rgba(0, 0, 0, 0.15);\n",
              "        filter: drop-shadow(0px 1px 2px rgba(0, 0, 0, 0.3));\n",
              "        fill: #FFFFFF;\n",
              "      }\n",
              "    </style>\n",
              "    <button class=\"colab-df-generate\" onclick=\"generateWithVariable('encoded')\"\n",
              "            title=\"Generate code using this dataframe.\"\n",
              "            style=\"display:none;\">\n",
              "\n",
              "  <svg xmlns=\"http://www.w3.org/2000/svg\" height=\"24px\"viewBox=\"0 0 24 24\"\n",
              "       width=\"24px\">\n",
              "    <path d=\"M7,19H8.4L18.45,9,17,7.55,7,17.6ZM5,21V16.75L18.45,3.32a2,2,0,0,1,2.83,0l1.4,1.43a1.91,1.91,0,0,1,.58,1.4,1.91,1.91,0,0,1-.58,1.4L9.25,21ZM18.45,9,17,7.55Zm-12,3A5.31,5.31,0,0,0,4.9,8.1,5.31,5.31,0,0,0,1,6.5,5.31,5.31,0,0,0,4.9,4.9,5.31,5.31,0,0,0,6.5,1,5.31,5.31,0,0,0,8.1,4.9,5.31,5.31,0,0,0,12,6.5,5.46,5.46,0,0,0,6.5,12Z\"/>\n",
              "  </svg>\n",
              "    </button>\n",
              "    <script>\n",
              "      (() => {\n",
              "      const buttonEl =\n",
              "        document.querySelector('#id_b96724e8-d926-4ad4-893d-ddd0a1532386 button.colab-df-generate');\n",
              "      buttonEl.style.display =\n",
              "        google.colab.kernel.accessAllowed ? 'block' : 'none';\n",
              "\n",
              "      buttonEl.onclick = () => {\n",
              "        google.colab.notebook.generateWithVariable('encoded');\n",
              "      }\n",
              "      })();\n",
              "    </script>\n",
              "  </div>\n",
              "\n",
              "    </div>\n",
              "  </div>\n"
            ],
            "application/vnd.google.colaboratory.intrinsic+json": {
              "type": "dataframe",
              "variable_name": "encoded",
              "summary": "{\n  \"name\": \"encoded\",\n  \"rows\": 3,\n  \"fields\": [\n    {\n      \"column\": \"Color_Blue\",\n      \"properties\": {\n        \"dtype\": \"number\",\n        \"std\": 0,\n        \"min\": 0,\n        \"max\": 1,\n        \"num_unique_values\": 2,\n        \"samples\": [\n          1,\n          0\n        ],\n        \"semantic_type\": \"\",\n        \"description\": \"\"\n      }\n    },\n    {\n      \"column\": \"Color_Green\",\n      \"properties\": {\n        \"dtype\": \"number\",\n        \"std\": 0,\n        \"min\": 0,\n        \"max\": 1,\n        \"num_unique_values\": 2,\n        \"samples\": [\n          1,\n          0\n        ],\n        \"semantic_type\": \"\",\n        \"description\": \"\"\n      }\n    },\n    {\n      \"column\": \"Color_Red\",\n      \"properties\": {\n        \"dtype\": \"number\",\n        \"std\": 0,\n        \"min\": 0,\n        \"max\": 1,\n        \"num_unique_values\": 2,\n        \"samples\": [\n          0,\n          1\n        ],\n        \"semantic_type\": \"\",\n        \"description\": \"\"\n      }\n    }\n  ]\n}"
            }
          },
          "metadata": {},
          "execution_count": 9
        }
      ]
    }
  ]
}